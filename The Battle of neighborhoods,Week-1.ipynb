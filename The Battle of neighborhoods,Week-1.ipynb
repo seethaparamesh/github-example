{
    "nbformat_minor": 1, 
    "cells": [
        {
            "source": "<h1>The Battle of Neighborhoods, Week-1,Problem Description</h1>", 
            "cell_type": "markdown", 
            "metadata": {
                "collapsed": true
            }
        }, 
        {
            "source": "\n\n<h2>Introduction</h2> :\n    \n<h2> Background:</h2>\nThe City of New York, is one of the densely populated city in the United States. \nIt is the financial capital of USA. It is multicultural. It provides lot of business oppourtunities and business friendly environment. \nIt has attracted many different players into the market. It is a global hub of business and commerce. \nThe city is a major center for banking and finance, retailing, world trade, transportation, tourism, real estate, new media, traditional media, advertising, legal services, accountancy, insurance, theater, fashion, and the arts in the United States.\nThis also means that the market is fiercely competitive. As it is highly developed city so cost of living and business development is very high.\n<h2>Problem Description:</h2>\nLets imagine that an entrepreneur wants to open a restaurant here, at the heart of New York City.\nFirst, lets consider the variety of cuisine options:\n<ul>    \n<li>Central and Eastern European immigrants, especially Jewish immigrants - bagels, cheesecake, hot dogs, knishes, and delicatessens</li>\n<li>Italian immigrants - New York-style pizza and Italian cuisine</li>\n<li>Jewish immigrants and Irish immigrants - pastrami and corned beef</li>\n<li>Chinese and other Asian restaurants, sandwich joints, trattorias, diners, and coffeehouses are ubiquitous throughout the city</li>\n<li>mobile food vendors - Some 4,000 licensed by the city</li>\n<li>Middle Eastern foods such as falafel and kebabs examples of modern New York street food</li>\n    \nIt is famous for not just Pizzerias & Cafes', but also for fine dining Michelin starred restaurants.\nThe city is home to \"nearly one thousand of the finest and most diverse haute cuisine restaurants in the world\", according to Michelin.\nSo it is evident that to survive in such competitive market it is very important to startegically plan. Various factors need to be studied inorder to decide on the Location such as :\n<ul>\n<li>New York Population</li>\n<li>New York City Demographics</li>\n<li>Are there any Farmers Markets, Wholesale markets etc nearby so that the ingredients can be purchased fresh to maintain quality and cost?\n<li>Are there any venues like Gyms, Entertainmnet zones, Parks etc nearby where floating population is high etc</li>\n<li>Who are the competitors in that location?</li>\n<li>Cuisine served / Menu of the competitors</li>\n<li>Segmentation of the Borough</li>\n<li>Untapped markets</li>\n<li>Saturated markets etc</li>\n    </ul>    \n.\nThe Food Company Inc. , though is very well funded, still needs to choose the correct location to start its first venture.If this is successful they can replicate the same in other locations. First move is very important, thereby choice of location is very important.\n\n<b><h2>Target Audience:</h2></b>\nTo recommend the correct location, The Food Company Inc.has given me the responsibility to lead their Data Analyst team . The objective is to locate and recommend to the management which neighborhood of Newyork city will be best choice to start a restaurant. The Management also expects to understand the rationale of the recommendations made.\n\nThis would interest anyone who wants to start a new restaurant in Newyork city.\n\n<b><h2>Success Criteria:</h2></b>\nThe success criteria of the project will be a good recommendation of borough/Neighborhood choice to The Food Company Inc. based on Lack of such restaurants in that location and nearest suppliers of ingredients.", 
            "cell_type": "markdown", 
            "metadata": {}
        }
    ], 
    "metadata": {
        "kernelspec": {
            "display_name": "Python 3.6", 
            "name": "python3", 
            "language": "python"
        }, 
        "language_info": {
            "mimetype": "text/x-python", 
            "nbconvert_exporter": "python", 
            "version": "3.6.8", 
            "name": "python", 
            "file_extension": ".py", 
            "pygments_lexer": "ipython3", 
            "codemirror_mode": {
                "version": 3, 
                "name": "ipython"
            }
        }
    }, 
    "nbformat": 4
}