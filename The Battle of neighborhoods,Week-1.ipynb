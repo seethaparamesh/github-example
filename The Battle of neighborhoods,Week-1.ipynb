{
    "nbformat_minor": 1, 
    "cells": [
        {
            "source": "<h1>The Battle of Neighborhoods, Week-1,Problem Description</h1>", 
            "cell_type": "markdown", 
            "metadata": {
                "collapsed": true
            }
        }, 
        {
            "source": "\n\n<h2>Introduction</h2> :\n    \n<h2> Background:</h2>\nThe City of New York, is one of the densely populated city in the United States. \nIt is the financial capital of USA. It is multicultural. It provides lot of business oppourtunities and business friendly environment. \nIt has attracted many different players into the market. It is a global hub of business and commerce. \nThe city is a major center for banking and finance, retailing, world trade, transportation, tourism, real estate, new media, traditional media, advertising, legal services, accountancy, insurance, theater, fashion, and the arts in the United States.\nThis also means that the market is fiercely competitive. As it is highly developed city so cost of living and business development is very high.\n<h2>Problem Description:</h2>\nLets imagine that an entrepreneur wants to open a restaurant here, at the heart of New York City.\nFirst, lets consider the variety of cuisine options:\n<ul>    \n<li>Central and Eastern European immigrants, especially Jewish immigrants - bagels, cheesecake, hot dogs, knishes, and delicatessens</li>\nItalian immigrants - New York-style pizza and Italian cuisine\nJewish immigrants and Irish immigrants - pastrami and corned beef\nChinese and other Asian restaurants, sandwich joints, trattorias, diners, and coffeehouses are ubiquitous throughout the city\nmobile food vendors - Some 4,000 licensed by the city\nMiddle Eastern foods such as falafel and kebabs examples of modern New York street food\nIt is famous for not just Pizzerias, Cafe's but also for fine dining Michelin starred restaurants.The city is home to \"nearly one thousand of the finest and most diverse haute cuisine restaurants in the world\", according to Michelin.\nSo it is evident that to survive in such competitive market it is very important to startegically plan. Various factors need to be studied inorder to decide on the Location such as :\n\nNew York Population\nNew York City Demographics\nAre there any Farmers Markets, Wholesale markets etc nearby so that the ingredients can be purchased fresh to maintain quality and cost?\nAre there any venues like Gyms, Entertainmnet zones, Parks etc nearby where floating population is high etc\nWho are the competitors in that location?\nCuisine served / Menu of the competitors\nSegmentation of the Borough\nUntapped markets\nSaturated markets etc\nThe list can go on...\nEventhough well funded XYZ Company Ltd. need to choose the correct location to start its first venture.If this is successful they can replicate the same in other locations. First move is very important, thereby choice of location is very important.\n\nTarget Audience:\nTo recommend the correct location, XYZ Company Ltd has appointed me to lead of the Data Science team. The objective is to locate and recommend to the management which neighborhood of Newyork city will be best choice to start a restaurant. The Management also expects to understand the rationale of the recommendations made.\n\nThis would interest anyone who wants to start a new restaurant in Newyork city.\n\nSuccess Criteria:\nThe success criteria of the project will be a good recommendation of borough/Neighborhood choice to XYZ Company Ltd based on Lack of such restaurants in that location and nearest suppliers of ingredients.", 
            "cell_type": "code", 
            "execution_count": null, 
            "outputs": [], 
            "metadata": {}
        }
    ], 
    "nbformat": 4, 
    "metadata": {
        "kernelspec": {
            "display_name": "Python 3.6", 
            "name": "python3", 
            "language": "python"
        }, 
        "language_info": {
            "mimetype": "text/x-python", 
            "nbconvert_exporter": "python", 
            "version": "3.6.8", 
            "name": "python", 
            "pygments_lexer": "ipython3", 
            "file_extension": ".py", 
            "codemirror_mode": {
                "version": 3, 
                "name": "ipython"
            }
        }
    }
}