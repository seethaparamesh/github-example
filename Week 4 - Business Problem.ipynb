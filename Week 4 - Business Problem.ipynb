{
 "cells": [
  {
   "cell_type": "markdown",
   "metadata": {
    "collapsed": true
   },
   "source": [
    "<h2>The Battle of the Neighborhoods - Week 1 </h2>\n",
    "\n",
    "<h3>INTRODUCTION </h3>\n",
    "Where you discuss the business problem and who would be interested in this project:\n",
    "In a city of my choice, Columbus, Ohio, if someone is looking to open a restaurant, where would you recommend that they open it?\n",
    "\n",
    "<h3>DISCUSSION OF THE BUSINESS PROBLEM: </h3>\n",
    "I am building a data analysis report for an entrepreneur who wants to open a restaurant here, in a Columbus suburb.\n",
    "\n",
    "The business requirements being:\n",
    "<ol>\n",
    "<li>Opening a restaurant at a few of the wealthiest suburbs in and around Columbus, Ohio.</li>\n",
    "<li>A residential suburb is preferred since it is a family restaurant.</li>\n",
    "<li>The Food Company Inc., though is very well funded, still needs to choose the perfect mix of audience location to start its first venture. If this is successful, they are planning to replicate the same in more suburbia locations.\n",
    "<li>Starting this undertaking on a relatively smaller budget since this is a pilot attempt hence budgeting is quite a key factor.</li>\n",
    "</ol>\n",
    "\n",
    "<h3>WHO WOULD BE INTERESTED? </h3>\n",
    "This data analysis exploratory report is tailored for someone who is interested in opening a family friendly restaurant in a Columbus neighborhood. Opening a restaurant is a considerable undertaking and, when done thoroughly and thoughtfully, can be a rewarding and profitable experience.\n",
    "By carefully following the steps outlined here, the business owner will be on his/her way to opening their doors for customers who desire their culinary services. First move is very important, thereby choice of location is very important and hence I, as a data analyst have done my exploratory analysis in picking the best location that satisfies the business recommendations. At the end of my project presentation & discussions, the entrepreneur would be presented with picking one of the locations in either of these two suburbs- Dublin, Ohio or New Albany, Ohio\n"
   ]
  }
 ],
 "metadata": {
  "kernelspec": {
   "display_name": "Python 3.6",
   "language": "python",
   "name": "python3"
  },
  "language_info": {
   "codemirror_mode": {
    "name": "ipython",
    "version": 3
   },
   "file_extension": ".py",
   "mimetype": "text/x-python",
   "name": "python",
   "nbconvert_exporter": "python",
   "pygments_lexer": "ipython3",
   "version": "3.6.8"
  }
 },
 "nbformat": 4,
 "nbformat_minor": 1
}
